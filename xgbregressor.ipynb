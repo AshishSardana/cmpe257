{
 "cells": [
  {
   "cell_type": "code",
   "execution_count": 22,
   "metadata": {},
   "outputs": [],
   "source": [
    "import pandas as pd\n",
    "from sklearn.model_selection import train_test_split\n",
    "import matplotlib.pyplot as plt\n",
    "from xgboost import XGBRegressor\n",
    "from sklearn.metrics import mean_squared_error"
   ]
  },
  {
   "cell_type": "code",
   "execution_count": 23,
   "metadata": {},
   "outputs": [],
   "source": [
    "# Loading the data\n",
    "data = pd.read_csv('/Users/britneyjaculina/Desktop/Trihourly_Weather_Dataset.csv')"
   ]
  },
  {
   "cell_type": "code",
   "execution_count": 24,
   "metadata": {},
   "outputs": [],
   "source": [
    "# Transform 'forest_fire' into binary\n",
    "# Y = 1 = forest_fire occured, N = 0 = forest_fire did not occur\n",
    "data['forest_fire'] = data['forest_fire'].map({'Y': 1, 'N': 0})"
   ]
  },
  {
   "cell_type": "code",
   "execution_count": 25,
   "metadata": {},
   "outputs": [],
   "source": [
    "# Populating the 'Severity' NaN values with 0\n",
    "data['Severity'] = data['Severity'].fillna(0)"
   ]
  },
  {
   "cell_type": "code",
   "execution_count": 26,
   "metadata": {},
   "outputs": [],
   "source": [
    "# Converting 'date' column to year, month, and day columns\n",
    "# Dropping the original 'date' column\n",
    "data['date'] = pd.to_datetime(data['date'], format='%m/%d/%y')\n",
    "data['year'] = data['date'].dt.year\n",
    "data['month'] = data['date'].dt.month\n",
    "data['day'] = data['date'].dt.day\n",
    "data.drop('date', axis=1, inplace=True)"
   ]
  },
  {
   "cell_type": "code",
   "execution_count": 27,
   "metadata": {},
   "outputs": [],
   "source": [
    "# Converting 'time' column in hour, minute, second\n",
    "# Dropping the original 'time' column\n",
    "data['time'] = pd.to_datetime(data['time'], format='%H:%M:%S').dt.time\n",
    "data['hour'] = pd.to_datetime(data['time'], format='%H:%M:%S').dt.hour\n",
    "data['minute'] = pd.to_datetime(data['time'], format='%H:%M:%S').dt.minute\n",
    "data.drop('time', axis=1, inplace=True)"
   ]
  },
  {
   "cell_type": "code",
   "execution_count": 28,
   "metadata": {},
   "outputs": [],
   "source": [
    "# Dropping 'datetime' column to accommodate above steps\n",
    "data.drop('datetime', axis=1, inplace=True)"
   ]
  },
  {
   "cell_type": "code",
   "execution_count": 29,
   "metadata": {},
   "outputs": [],
   "source": [
    "# Filling in missing values\n",
    "data.fillna(data.select_dtypes(include=['number']).mean(), inplace=True)"
   ]
  },
  {
   "cell_type": "code",
   "execution_count": 30,
   "metadata": {},
   "outputs": [
    {
     "name": "stdout",
     "output_type": "stream",
     "text": [
      "Number of negative samples (forest_fire = 0): 11688\n"
     ]
    }
   ],
   "source": [
    "# Count the number of negative samples (forest_fire = 0)\n",
    "num_negative_samples = (data['forest_fire'] == 0).sum()\n",
    "\n",
    "print(\"Number of negative samples (forest_fire = 0):\", num_negative_samples)"
   ]
  },
  {
   "cell_type": "code",
   "execution_count": 31,
   "metadata": {},
   "outputs": [
    {
     "name": "stdout",
     "output_type": "stream",
     "text": [
      "Number of positive samples (forest_fire = 1): 6421\n"
     ]
    }
   ],
   "source": [
    "# Count the number of positive samples (forest_fire = 1)\n",
    "num_positive_samples = (data['forest_fire'] == 1).sum()\n",
    "\n",
    "print(\"Number of positive samples (forest_fire = 1):\", num_positive_samples)"
   ]
  },
  {
   "cell_type": "code",
   "execution_count": 32,
   "metadata": {},
   "outputs": [],
   "source": [
    "# Set up features and target\n",
    "X = data.drop(['forest_fire','Severity'], axis=1)\n",
    "y = data['Severity']"
   ]
  },
  {
   "cell_type": "code",
   "execution_count": 33,
   "metadata": {},
   "outputs": [
    {
     "data": {
      "text/html": [
       "<div>\n",
       "<style scoped>\n",
       "    .dataframe tbody tr th:only-of-type {\n",
       "        vertical-align: middle;\n",
       "    }\n",
       "\n",
       "    .dataframe tbody tr th {\n",
       "        vertical-align: top;\n",
       "    }\n",
       "\n",
       "    .dataframe thead th {\n",
       "        text-align: right;\n",
       "    }\n",
       "</style>\n",
       "<table border=\"1\" class=\"dataframe\">\n",
       "  <thead>\n",
       "    <tr style=\"text-align: right;\">\n",
       "      <th></th>\n",
       "      <th>temperature_2m</th>\n",
       "      <th>relative_humidity_2m</th>\n",
       "      <th>precipitation</th>\n",
       "      <th>surface_pressure</th>\n",
       "      <th>cloud_cover</th>\n",
       "      <th>wind_speed_10m</th>\n",
       "      <th>soil_temperature_0_to_7cm</th>\n",
       "      <th>soil_temperature_7_to_28cm</th>\n",
       "      <th>soil_moisture_0_to_7cm</th>\n",
       "      <th>soil_moisture_7_to_28cm</th>\n",
       "      <th>year</th>\n",
       "      <th>month</th>\n",
       "      <th>day</th>\n",
       "      <th>hour</th>\n",
       "      <th>minute</th>\n",
       "    </tr>\n",
       "  </thead>\n",
       "  <tbody>\n",
       "    <tr>\n",
       "      <th>0</th>\n",
       "      <td>6.061000</td>\n",
       "      <td>67.824059</td>\n",
       "      <td>0.0</td>\n",
       "      <td>933.246216</td>\n",
       "      <td>20.400002</td>\n",
       "      <td>6.638072</td>\n",
       "      <td>6.061</td>\n",
       "      <td>8.061001</td>\n",
       "      <td>0.364</td>\n",
       "      <td>0.372</td>\n",
       "      <td>2020.0</td>\n",
       "      <td>1.0</td>\n",
       "      <td>1.0</td>\n",
       "      <td>7.0</td>\n",
       "      <td>0.0</td>\n",
       "    </tr>\n",
       "    <tr>\n",
       "      <th>1</th>\n",
       "      <td>3.861000</td>\n",
       "      <td>77.639603</td>\n",
       "      <td>0.0</td>\n",
       "      <td>931.856018</td>\n",
       "      <td>26.700001</td>\n",
       "      <td>4.693825</td>\n",
       "      <td>5.311</td>\n",
       "      <td>7.761000</td>\n",
       "      <td>0.364</td>\n",
       "      <td>0.372</td>\n",
       "      <td>2020.0</td>\n",
       "      <td>1.0</td>\n",
       "      <td>1.0</td>\n",
       "      <td>9.0</td>\n",
       "      <td>0.0</td>\n",
       "    </tr>\n",
       "    <tr>\n",
       "      <th>2</th>\n",
       "      <td>4.361000</td>\n",
       "      <td>75.236038</td>\n",
       "      <td>0.0</td>\n",
       "      <td>931.915161</td>\n",
       "      <td>14.400001</td>\n",
       "      <td>4.610250</td>\n",
       "      <td>3.911</td>\n",
       "      <td>6.961000</td>\n",
       "      <td>0.359</td>\n",
       "      <td>0.370</td>\n",
       "      <td>2020.0</td>\n",
       "      <td>1.0</td>\n",
       "      <td>1.0</td>\n",
       "      <td>12.0</td>\n",
       "      <td>0.0</td>\n",
       "    </tr>\n",
       "    <tr>\n",
       "      <th>3</th>\n",
       "      <td>6.111000</td>\n",
       "      <td>73.412125</td>\n",
       "      <td>0.0</td>\n",
       "      <td>932.712647</td>\n",
       "      <td>20.700001</td>\n",
       "      <td>8.788720</td>\n",
       "      <td>4.611</td>\n",
       "      <td>6.511000</td>\n",
       "      <td>0.359</td>\n",
       "      <td>0.369</td>\n",
       "      <td>2020.0</td>\n",
       "      <td>1.0</td>\n",
       "      <td>1.0</td>\n",
       "      <td>15.0</td>\n",
       "      <td>0.0</td>\n",
       "    </tr>\n",
       "    <tr>\n",
       "      <th>4</th>\n",
       "      <td>12.561001</td>\n",
       "      <td>61.951244</td>\n",
       "      <td>0.0</td>\n",
       "      <td>934.771851</td>\n",
       "      <td>0.000000</td>\n",
       "      <td>6.489992</td>\n",
       "      <td>7.461</td>\n",
       "      <td>6.511000</td>\n",
       "      <td>0.358</td>\n",
       "      <td>0.369</td>\n",
       "      <td>2020.0</td>\n",
       "      <td>1.0</td>\n",
       "      <td>1.0</td>\n",
       "      <td>18.0</td>\n",
       "      <td>0.0</td>\n",
       "    </tr>\n",
       "  </tbody>\n",
       "</table>\n",
       "</div>"
      ],
      "text/plain": [
       "   temperature_2m  relative_humidity_2m  precipitation  surface_pressure  \\\n",
       "0        6.061000             67.824059            0.0        933.246216   \n",
       "1        3.861000             77.639603            0.0        931.856018   \n",
       "2        4.361000             75.236038            0.0        931.915161   \n",
       "3        6.111000             73.412125            0.0        932.712647   \n",
       "4       12.561001             61.951244            0.0        934.771851   \n",
       "\n",
       "   cloud_cover  wind_speed_10m  soil_temperature_0_to_7cm  \\\n",
       "0    20.400002        6.638072                      6.061   \n",
       "1    26.700001        4.693825                      5.311   \n",
       "2    14.400001        4.610250                      3.911   \n",
       "3    20.700001        8.788720                      4.611   \n",
       "4     0.000000        6.489992                      7.461   \n",
       "\n",
       "   soil_temperature_7_to_28cm  soil_moisture_0_to_7cm  \\\n",
       "0                    8.061001                   0.364   \n",
       "1                    7.761000                   0.364   \n",
       "2                    6.961000                   0.359   \n",
       "3                    6.511000                   0.359   \n",
       "4                    6.511000                   0.358   \n",
       "\n",
       "   soil_moisture_7_to_28cm    year  month  day  hour  minute  \n",
       "0                    0.372  2020.0    1.0  1.0   7.0     0.0  \n",
       "1                    0.372  2020.0    1.0  1.0   9.0     0.0  \n",
       "2                    0.370  2020.0    1.0  1.0  12.0     0.0  \n",
       "3                    0.369  2020.0    1.0  1.0  15.0     0.0  \n",
       "4                    0.369  2020.0    1.0  1.0  18.0     0.0  "
      ]
     },
     "execution_count": 33,
     "metadata": {},
     "output_type": "execute_result"
    }
   ],
   "source": [
    "# X = features\n",
    "X.head()"
   ]
  },
  {
   "cell_type": "code",
   "execution_count": 34,
   "metadata": {},
   "outputs": [
    {
     "data": {
      "text/plain": [
       "Severity\n",
       "0.000000     11688\n",
       "27.500000      156\n",
       "25.000000       90\n",
       "36.935283        6\n",
       "36.614845        5\n",
       "             ...  \n",
       "31.585665        1\n",
       "31.582743        1\n",
       "31.579553        1\n",
       "31.573254        1\n",
       "42.643980        1\n",
       "Name: count, Length: 5476, dtype: int64"
      ]
     },
     "execution_count": 34,
     "metadata": {},
     "output_type": "execute_result"
    }
   ],
   "source": [
    "# y = target = 'Severity' column\n",
    "# Counting different 'Severity' values\n",
    "y.value_counts()"
   ]
  },
  {
   "cell_type": "code",
   "execution_count": 35,
   "metadata": {},
   "outputs": [
    {
     "name": "stdout",
     "output_type": "stream",
     "text": [
      "Mean Squared Error: 2.632527555483956\n"
     ]
    }
   ],
   "source": [
    "# Splitting the dataset into training and testing sets\n",
    "X_train, X_test, y_train, y_test = train_test_split(X, y, test_size=0.2, random_state=42)\n",
    "\n",
    "# Initializing the XGBoost regressor model\n",
    "regressor_model = XGBRegressor(objective='reg:squarederror', random_state=42)\n",
    "\n",
    "# Train the regressor model on training dataset\n",
    "regressor_model.fit(X_train, y_train)\n",
    "\n",
    "# Making predictions on testing dataset\n",
    "y_pred = regressor_model.predict(X_test)\n",
    "\n",
    "# Evaluating and printing the model's performance\n",
    "# Model's performance is the error between predicted and actual values\n",
    "mse = mean_squared_error(y_test, y_pred)\n",
    "print(\"Mean Squared Error:\", mse)"
   ]
  },
  {
   "cell_type": "code",
   "execution_count": 36,
   "metadata": {},
   "outputs": [
    {
     "name": "stdout",
     "output_type": "stream",
     "text": [
      "0        0\n",
      "1        0\n",
      "2        0\n",
      "3        0\n",
      "4        0\n",
      "        ..\n",
      "18105    1\n",
      "18106    1\n",
      "18107    1\n",
      "18108    1\n",
      "18109    1\n",
      "Name: classified, Length: 18110, dtype: int64\n"
     ]
    }
   ],
   "source": [
    "# Creating a function that intakes severity values\n",
    "# 0's indicate no wildfire occurence\n",
    "def classify_severity(severity):\n",
    "    if severity == 0:\n",
    "        return 0\n",
    "    else:\n",
    "        return 1\n",
    "\n",
    "# Create a new column called 'classified' and apply the 'Severity' column\n",
    "data['classified'] = data['Severity'].apply(classify_severity)\n",
    "\n",
    "# Output 'classified'\n",
    "print(data['classified'])"
   ]
  },
  {
   "cell_type": "code",
   "execution_count": 37,
   "metadata": {},
   "outputs": [
    {
     "name": "stdout",
     "output_type": "stream",
     "text": [
      "Number of positive samples (classified = 1): 6422\n"
     ]
    }
   ],
   "source": [
    "# Count the number of positive samples after regression model (classified = 1)\n",
    "num_classified = (data['classified'] == 1).sum()\n",
    "\n",
    "print(\"Number of positive samples (classified = 1):\", num_classified)"
   ]
  },
  {
   "cell_type": "code",
   "execution_count": 38,
   "metadata": {},
   "outputs": [
    {
     "name": "stdout",
     "output_type": "stream",
     "text": [
      "Number of positive samples (forest_fire = 1): 6421\n"
     ]
    }
   ],
   "source": [
    "# Count the number of positive samples before regression model (forest_fire = 1)\n",
    "num_positive_samples = (data['forest_fire'] == 1).sum()\n",
    "\n",
    "print(\"Number of positive samples (forest_fire = 1):\", num_positive_samples)"
   ]
  },
  {
   "cell_type": "code",
   "execution_count": 39,
   "metadata": {},
   "outputs": [
    {
     "data": {
      "image/png": "[encoded data removed]",
      "text/plain": [
       "<Figure size 1000x600 with 1 Axes>"
      ]
     },
     "metadata": {},
     "output_type": "display_data"
    }
   ],
   "source": [
    "import matplotlib.pyplot as plt\n",
    "\n",
    "# Plotting actual and predicted values\n",
    "plt.figure(figsize=(10, 6))\n",
    "plt.scatter(y_test, y_pred, color='green', label='Actual vs. Predicted')\n",
    "plt.plot([y_test.min(), y_test.max()], [y_test.min(), y_test.max()], color='red', linestyle='--', label='Perfect Prediction')\n",
    "plt.title('Actual vs. Predicted Values')\n",
    "plt.xlabel('Actual Values')\n",
    "plt.ylabel('Predicted Values')\n",
    "plt.legend()\n",
    "plt.grid(True)\n",
    "plt.show()\n"
   ]
  },
  {
   "cell_type": "code",
   "execution_count": null,
   "metadata": {},
   "outputs": [],
   "source": []
  }
 ],
 "metadata": {
  "interpreter": {
   "hash": "5f9bb61c8b041c99900625ea1333e2ca481fbb40b994e8acc3ddd7647da074f1"
  },
  "kernelspec": {
   "display_name": "Python 3.12.2 ('cmpe257')",
   "language": "python",
   "name": "python3"
  },
  "language_info": {
   "codemirror_mode": {
    "name": "ipython",
    "version": 3
   },
   "file_extension": ".py",
   "mimetype": "text/x-python",
   "name": "python",
   "nbconvert_exporter": "python",
   "pygments_lexer": "ipython3",
   "version": "3.12.2"
  },
  "orig_nbformat": 4
 },
 "nbformat": 4,
 "nbformat_minor": 2
}
